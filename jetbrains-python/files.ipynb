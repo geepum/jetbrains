{
 "cells": [
  {
   "cell_type": "markdown",
   "id": "d8fd3172",
   "metadata": {},
   "source": [
    "# Files"
   ]
  },
  {
   "cell_type": "markdown",
   "id": "aa370126",
   "metadata": {},
   "source": [
    "## context manager"
   ]
  },
  {
   "cell_type": "code",
   "execution_count": 17,
   "id": "aa867dce",
   "metadata": {},
   "outputs": [
    {
     "name": "stdout",
     "output_type": "stream",
     "text": [
      "Reservoir Dogs\n",
      "\n",
      "Pulp Fiction\n",
      "\n",
      "Jackie Brown\n",
      "\n",
      "Kill Bill: Volume 1\n",
      "\n",
      "Kill Bill: Volume 2\n",
      "\n",
      "Grindhouse: Death Proof\n",
      "\n",
      "Inglorious Basterds\n",
      "\n",
      "Django Unchained\n",
      "\n",
      "The Hateful Eight\n",
      "\n",
      "Once Upon a Time in Hollywood\n",
      "\n"
     ]
    }
   ],
   "source": [
    "with open('animals.txt', 'r', encoding='utf-8') as f:\n",
    "    for line in f:\n",
    "        print(line)"
   ]
  },
  {
   "cell_type": "code",
   "execution_count": 18,
   "id": "7ed267db",
   "metadata": {},
   "outputs": [
    {
     "name": "stdout",
     "output_type": "stream",
     "text": [
      "Reservoir Dogs\n",
      "Pulp Fiction\n",
      "Jackie Brown\n",
      "Kill Bill: Volume 1\n",
      "Kill Bill: Volume 2\n",
      "Grindhouse: Death Proof\n",
      "Inglorious Basterds\n",
      "Django Unchained\n",
      "The Hateful Eight\n",
      "Once Upon a Time in Hollywood\n"
     ]
    }
   ],
   "source": [
    "# if you want to get rid of the unexpected additional new lines per line\n",
    "with open('animals.txt', 'r', encoding='utf-8') as f:\n",
    "    for line in f:\n",
    "        print(line.strip())"
   ]
  },
  {
   "cell_type": "code",
   "execution_count": 22,
   "id": "7d942aaa",
   "metadata": {},
   "outputs": [
    {
     "name": "stdout",
     "output_type": "stream",
     "text": [
      "Reservoir Dogs\r\n",
      "Pulp Fiction\r\n",
      "Jackie Brown\r\n",
      "Kill Bill: Volume 1\r\n",
      "Kill Bill: Volume 2\r\n",
      "Grindhouse: Death Proof\r\n",
      "Inglorious Basterds\r\n",
      "Django Unchained\r\n",
      "The Hateful Eight\r\n",
      "Once Upon a Time in Hollywood\r\n"
     ]
    }
   ],
   "source": [
    "# from one file to another\n",
    "with open('animals.txt', 'r') as in_file, open('new_animals.txt', 'w', encoding='utf-8') as out_file:\n",
    "    for line in in_file:\n",
    "        out_file.write(line)\n",
    "\n",
    "!cat new_animals.txt"
   ]
  },
  {
   "cell_type": "code",
   "execution_count": 34,
   "id": "91ff700f",
   "metadata": {},
   "outputs": [
    {
     "name": "stdout",
     "output_type": "stream",
     "text": [
      "42000\r\n",
      "57360\r\n",
      "79992\r\n",
      "28080\r\n",
      "14868\r\n",
      "16128\r\n",
      "75888\r\n",
      "88104\r\n",
      "14808\r\n",
      "77184\r\n",
      "14808\r\n",
      "65076\r\n"
     ]
    }
   ],
   "source": [
    "with open('salary.txt', 'r') as in_file, open('new_salary.txt', 'w', encoding='utf-8') as out_file:\n",
    "    for line in in_file:\n",
    "        salary = str(int(line) * 12) + '\\n'\n",
    "        \n",
    "        out_file.write(salary)\n",
    "\n",
    "!cat new_salary.txt"
   ]
  }
 ],
 "metadata": {
  "kernelspec": {
   "display_name": "Python 3 (ipykernel)",
   "language": "python",
   "name": "python3"
  },
  "language_info": {
   "codemirror_mode": {
    "name": "ipython",
    "version": 3
   },
   "file_extension": ".py",
   "mimetype": "text/x-python",
   "name": "python",
   "nbconvert_exporter": "python",
   "pygments_lexer": "ipython3",
   "version": "3.10.6"
  }
 },
 "nbformat": 4,
 "nbformat_minor": 5
}
